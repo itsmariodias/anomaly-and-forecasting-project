{
 "cells": [
  {
   "cell_type": "markdown",
   "metadata": {},
   "source": [
    "Ref: https://fraud-detection-handbook.github.io/fraud-detection-handbook"
   ]
  },
  {
   "cell_type": "code",
   "execution_count": 1,
   "metadata": {},
   "outputs": [
    {
     "name": "stdout",
     "output_type": "stream",
     "text": [
      "Warning: Your H2O cluster version is (3 months and 10 days) old.  There may be a newer version available.\n",
      "Please download and install the latest version from: https://h2o-release.s3.amazonaws.com/h2o/latest_stable.html\n"
     ]
    }
   ],
   "source": [
    "import h2o\n",
    "import json\n",
    "import utils\n",
    "import transform\n",
    "import train\n",
    "import explain\n",
    "import configs.base_config as C\n",
    "import evaluate\n",
    "import pandas as pd\n",
    "\n",
    "# Start H2O\n",
    "h2o.init(verbose=False)\n"
   ]
  },
  {
   "cell_type": "code",
   "execution_count": 2,
   "metadata": {},
   "outputs": [],
   "source": [
    "# Specify model to train\n",
    "model_name = \"lof\"\n"
   ]
  },
  {
   "cell_type": "code",
   "execution_count": 3,
   "metadata": {},
   "outputs": [],
   "source": [
    "# Define model parameters\n",
    "model_parameters = json.load(open(f\"{C.CONFIG_DIR}{model_name}.json\", \"r\"))\n"
   ]
  },
  {
   "cell_type": "code",
   "execution_count": 4,
   "metadata": {},
   "outputs": [
    {
     "name": "stderr",
     "output_type": "stream",
     "text": [
      "d:\\Projects\\AIPracticeProjects\\ml-project\\utils.py:28: FutureWarning: Downcasting behavior in `replace` is deprecated and will be removed in a future version. To retain the old behavior, explicitly call `result.infer_objects(copy=False)`. To opt-in to the future behavior, set `pd.set_option('future.no_silent_downcasting', True)`\n",
      "  df_final = df_final.replace([-1], 0).infer_objects(copy=False)\n"
     ]
    }
   ],
   "source": [
    "# Load dataset\n",
    "data = utils.read_from_files(C.DATA_DIR + 'simulated-data-raw/data/', \"2018-04-01\", \"2018-08-31\")\n"
   ]
  },
  {
   "cell_type": "code",
   "execution_count": 5,
   "metadata": {},
   "outputs": [],
   "source": [
    "# Transform data\n",
    "data = transform.extract_features(data)\n"
   ]
  },
  {
   "cell_type": "code",
   "execution_count": 6,
   "metadata": {},
   "outputs": [],
   "source": [
    "# Split Train and Val\n",
    "train_data = data[data[\"TX_DATETIME\"] < (pd.to_datetime(\"2018-08-01\").value // 1e9)].copy()\n",
    "val_data = data[data[\"TX_DATETIME\"] >= (pd.to_datetime(\"2018-08-01\").value // 1e9)].copy()\n"
   ]
  },
  {
   "cell_type": "code",
   "execution_count": 7,
   "metadata": {},
   "outputs": [
    {
     "name": "stderr",
     "output_type": "stream",
     "text": [
      "c:\\Users\\mario\\miniconda3\\envs\\ai-practice-projects\\lib\\site-packages\\joblib\\externals\\loky\\backend\\context.py:136: UserWarning: Could not find the number of physical cores for the following reason:\n",
      "found 0 physical cores < 1\n",
      "Returning the number of logical cores instead. You can silence this warning by setting LOKY_MAX_CPU_COUNT to the number of cores you want to use.\n",
      "  warnings.warn(\n",
      "  File \"c:\\Users\\mario\\miniconda3\\envs\\ai-practice-projects\\lib\\site-packages\\joblib\\externals\\loky\\backend\\context.py\", line 282, in _count_physical_cores\n",
      "    raise ValueError(f\"found {cpu_count_physical} physical cores < 1\")\n"
     ]
    }
   ],
   "source": [
    "# Generate background_data\n",
    "background_data = explain.generate_background_dataset(train_data, model_parameters)\n"
   ]
  },
  {
   "cell_type": "code",
   "execution_count": 8,
   "metadata": {},
   "outputs": [],
   "source": [
    "# Train Isolation Forest Model - Unsupervised Algorithm\n",
    "# Ref: https://github.com/h2oai/h2o-tutorials/blob/master/tutorials/isolation-forest/isolation-forest.ipynb\n",
    "\n",
    "if model_name == \"isolation_forest\":\n",
    "    model = train.train_isolation_forest(train_data, model_parameters)\n",
    "    train_predictions = evaluate.get_isoforest_predictions(\n",
    "        model, train_data, model_parameters[\"feature_names\"]\n",
    "    )\n",
    "    val_predictions = evaluate.get_isoforest_predictions(\n",
    "        model, val_data, model_parameters[\"feature_names\"]\n",
    "    )\n"
   ]
  },
  {
   "cell_type": "code",
   "execution_count": 9,
   "metadata": {},
   "outputs": [],
   "source": [
    "# Train K Means Model - Unsupervised Algorithm\n",
    "# Ref: https://medium.com/@tommaso.romani2000/harnessing-the-power-of-k-means-for-anomaly-detection-24dc71d260a8\n",
    "\n",
    "if model_name == \"kmeans\":\n",
    "    model = train.train_kmeans(train_data, model_parameters)\n",
    "    train_predictions = evaluate.get_kmeans_predictions(\n",
    "        model, train_data, model_parameters[\"feature_names\"]\n",
    "    )\n",
    "    val_predictions = evaluate.get_kmeans_predictions(\n",
    "        model, val_data, model_parameters[\"feature_names\"]\n",
    "    )\n"
   ]
  },
  {
   "cell_type": "code",
   "execution_count": 10,
   "metadata": {},
   "outputs": [],
   "source": [
    "# Train Local Outlier Factor Model - Unsupervised Algorithm but used as Semi-Supervised for Novelty Detection\n",
    "# Ref: https://scikit-learn.org/stable/auto_examples/neighbors/plot_lof_outlier_detection.html\n",
    "\n",
    "if model_name == \"lof\":\n",
    "    model = train.train_local_outlier_factor(train_data[train_data[\"TX_FRAUD\"] != 1], model_parameters)\n",
    "    train_predictions = evaluate.get_lof_predictions(\n",
    "        model, train_data, model_parameters[\"feature_names\"]\n",
    "    )\n",
    "    val_predictions = evaluate.get_lof_predictions(\n",
    "        model, val_data, model_parameters[\"feature_names\"]\n",
    "    )\n"
   ]
  },
  {
   "cell_type": "code",
   "execution_count": 11,
   "metadata": {},
   "outputs": [],
   "source": [
    "# Train One Class SVM Model - UnSupervised Algorithm\n",
    "# Ref: https://scikit-learn.org/stable/modules/generated/sklearn.svm.OneClassSVM.html\n",
    "\n",
    "if model_name == \"svm\":\n",
    "    model = train.train_svm(train_data, model_parameters)\n",
    "    train_predictions = evaluate.get_svm_predictions(\n",
    "        model, train_data, model_parameters[\"feature_names\"]\n",
    "    )\n",
    "    val_predictions = evaluate.get_svm_predictions(\n",
    "        model, val_data, model_parameters[\"feature_names\"]\n",
    "    )\n"
   ]
  },
  {
   "cell_type": "code",
   "execution_count": 12,
   "metadata": {},
   "outputs": [],
   "source": [
    "# Train Autoencoders Model - Semi Supervised Algorithm (requires non-anomalous data during training)\n",
    "# Ref: https://github.com/h2oai/h2o-tutorials/blob/master/best-practices/anomaly-detection/anomaly_detection.ipynb\n",
    "\n",
    "if model_name == \"auto_encoder\":\n",
    "    model, dl_grid = train.train_autoencoder(\n",
    "        train_data[train_data[\"TX_FRAUD\"] != 1], model_parameters, grid_search=True\n",
    "    )\n",
    "    train_predictions = evaluate.get_autoencoder_predictions(\n",
    "        model, train_data, model_parameters[\"feature_names\"]\n",
    "    )\n",
    "    val_predictions = evaluate.get_autoencoder_predictions(\n",
    "        model, val_data, model_parameters[\"feature_names\"]\n",
    "    )\n"
   ]
  },
  {
   "cell_type": "code",
   "execution_count": 13,
   "metadata": {},
   "outputs": [
    {
     "name": "stdout",
     "output_type": "stream",
     "text": [
      "Train results\n",
      "Metrics: {'train_average_precision': 0.2764187361582989, 'train_roc_auc': 0.6931575634392415, 'train_soft_accuracy': 0.9481826039156279, 'train_soft_precision': 0.06274898695436593, 'train_soft_recall': 0.38774432118330693, 'train_soft_f1': 0.10801742406404521, 'train_soft_f2': 0.19045740915648646, 'train_hard_accuracy': 0.9869276743297345, 'train_hard_precision': 0.2509830740297487, 'train_hard_recall': 0.3101954569466455, 'train_hard_f1': 0.27746538770495677, 'train_hard_f2': 0.296218572178054}\n"
     ]
    }
   ],
   "source": [
    "# Calculate thresholds and get train score\n",
    "model_parameters[\"soft_threshold\"], model_parameters[\"hard_threshold\"] = (\n",
    "    evaluate.calculate_thresholds(train_predictions, model_parameters[\"output_name\"])\n",
    ")\n",
    "\n",
    "print(\"Train results\")\n",
    "train_metrics = evaluate.get_metrics(train_data[\"TX_FRAUD\"], train_predictions[model_parameters[\"output_name\"]], model_parameters, prefix=\"train\")\n"
   ]
  },
  {
   "cell_type": "code",
   "execution_count": 14,
   "metadata": {},
   "outputs": [
    {
     "name": "stdout",
     "output_type": "stream",
     "text": [
      "Validation results\n",
      "Metrics: {'val_average_precision': 0.2622335434346816, 'val_roc_auc': 0.6793510304364113, 'val_soft_accuracy': 0.9476630282675623, 'val_soft_precision': 0.06610398379473328, 'val_soft_recall': 0.36680404645934805, 'val_soft_f1': 0.11202013845185652, 'val_soft_f2': 0.19206623244134036, 'val_hard_accuracy': 0.9861376656921557, 'val_hard_precision': 0.25853985264567986, 'val_hard_recall': 0.28924690895466465, 'val_hard_f1': 0.27303271441202476, 'val_hard_f2': 0.28253549992680427}\n"
     ]
    }
   ],
   "source": [
    "# Evaluate model\n",
    "\n",
    "print(\"Validation results\")\n",
    "val_metrics = evaluate.get_metrics(val_data[\"TX_FRAUD\"], val_predictions[model_parameters[\"output_name\"]], model_parameters, prefix=\"val\")\n"
   ]
  },
  {
   "cell_type": "code",
   "execution_count": 15,
   "metadata": {},
   "outputs": [
    {
     "name": "stdout",
     "output_type": "stream",
     "text": [
      "Saved model and data at models/lof_v1\n"
     ]
    }
   ],
   "source": [
    "# Save model\n",
    "model_filename = utils.save_model(model, background_data, model_parameters, C.MODEL_DIR, model_name, is_h2o=model_parameters[\"is_h2o\"])\n"
   ]
  },
  {
   "cell_type": "code",
   "execution_count": 16,
   "metadata": {},
   "outputs": [],
   "source": [
    "# Store results and save to a csv\n",
    "utils.log_results(\n",
    "    C.LOG_DIR + \"anomaly_detection.csv\",\n",
    "    model_filename,\n",
    "    model_parameters,\n",
    "    train_metrics,\n",
    "    val_metrics,\n",
    ")\n"
   ]
  },
  {
   "cell_type": "code",
   "execution_count": 17,
   "metadata": {},
   "outputs": [],
   "source": [
    "# Shutdown H2O\n",
    "h2o.cluster().shutdown()\n"
   ]
  },
  {
   "cell_type": "code",
   "execution_count": null,
   "metadata": {},
   "outputs": [],
   "source": []
  }
 ],
 "metadata": {
  "kernelspec": {
   "display_name": "Python 3 (ipykernel)",
   "language": "python",
   "name": "python3"
  },
  "language_info": {
   "codemirror_mode": {
    "name": "ipython",
    "version": 3
   },
   "file_extension": ".py",
   "mimetype": "text/x-python",
   "name": "python",
   "nbconvert_exporter": "python",
   "pygments_lexer": "ipython3",
   "version": "3.10.14"
  }
 },
 "nbformat": 4,
 "nbformat_minor": 4
}
